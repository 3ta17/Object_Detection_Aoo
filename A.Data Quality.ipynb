{
 "cells": [
  {
   "cell_type": "code",
   "execution_count": 6,
   "id": "0dfbceaa-8e57-48ba-beb2-5538473f098d",
   "metadata": {},
   "outputs": [
    {
     "name": "stdout",
     "output_type": "stream",
     "text": [
      "   CUSTOMER_ID SEGMENT_CODE       SEGMENT_NAME  RISK_RATING RISK_RATING_NAME  \\\n",
      "0         4632          EMP           Employee          3.0             High   \n",
      "1         9176         ENTR       Entrepreneur          1.0              Low   \n",
      "2         9636          PER  Personal Customer          3.0             High   \n",
      "3         2668         ENTR       Entrepreneur          3.0             High   \n",
      "4         4714          PER  Personal Customer          3.0             High   \n",
      "\n",
      "  REGISTER_DATE  \n",
      "0    2016-10-15  \n",
      "1    2017-08-05  \n",
      "2    2013-01-06  \n",
      "3    2015-12-27  \n",
      "4           NaN  \n"
     ]
    }
   ],
   "source": [
    "#import libraries\n",
    "import pandas as pd\n",
    "import numpy as np\n",
    "\n",
    "# load csv file\n",
    "customer = 'customer.csv'\n",
    "df = pd.read_csv(customer, sep=';')\n",
    "print(df.head())"
   ]
  },
  {
   "cell_type": "code",
   "execution_count": 8,
   "id": "04588d90-2544-43d5-bb1e-e58717a4c7c0",
   "metadata": {},
   "outputs": [
    {
     "name": "stdout",
     "output_type": "stream",
     "text": [
      "['EMP' 'ENTR' 'PER' 'PUB' 'LCORP' 'PBANK' 'SME' 'GOVT' 'FIN' ' PER'\n",
      " ' ENTR' nan 'PER ' 'ENTR ' 'EMP ' ' EMP' 'SME ' ' LCORP' 'GOVT ' 'LCORP '\n",
      " 'FIN ']\n",
      "['Employee' 'Entrepreneur' 'Personal Customer' 'Public Institution'\n",
      " 'Large Corporate' 'Private Banking' 'Small and medium-sized enterprise'\n",
      " 'Government institution' 'Financial institution' nan 'Empliyee'\n",
      " 'Persxnal Customer' 'Perscnal Customer' 'Public Igstitution'\n",
      " 'Personil Customer' 'Perdonal Customer']\n",
      "['High' 'Low' 'Medium' 'High ' nan ' High' ' Low' 'Gigh' ' Medium'\n",
      " 'Medium ' 'Hogh' 'Low ' 'Higf' 'Uigh' 'Hioh' 'Higw' 'Hish' 'Iigh' 'Hmgh'\n",
      " 'Hiqh' 'Higz' 'Meiium' 'Mediuu' 'Higl']\n"
     ]
    }
   ],
   "source": [
    "# Task a Finding each columns miss typing possibilities\n",
    "print(df[\"SEGMENT_CODE\"].unique())\n",
    "\n",
    "print(df[\"SEGMENT_NAME\"].unique())\n",
    "\n",
    "print(df[\"RISK_RATING_NAME\"].unique())\n"
   ]
  },
  {
   "cell_type": "code",
   "execution_count": 57,
   "id": "e45de55e-579e-4822-af4d-2f0416d2dba7",
   "metadata": {},
   "outputs": [
    {
     "name": "stdout",
     "output_type": "stream",
     "text": [
      "\n",
      "Fix spelling...\n",
      "\n",
      "Modified data:\n",
      "  RISK_RATING_NAME       SEGMENT_NAME SEGMENT_CODE\n",
      "0             High           Employee          EMP\n",
      "1              Low       Entrepreneur         ENTR\n",
      "2             High  Personal Customer          PER\n",
      "3             High       Entrepreneur         ENTR\n",
      "4             High  Personal Customer          PER\n"
     ]
    }
   ],
   "source": [
    "# Fix spelling mistake\n",
    "print(\"\\nFix spelling...\")\n",
    "\n",
    "# Fix spell in RISK_RATING_NAME\n",
    "risk_rating_fix = {\n",
    "    #list for 'High'\n",
    "    'Hihg': 'High', 'Hogh': 'High', 'Higf': 'High', 'Uigh': 'High', 'Hioh': 'High',\n",
    "    'Higw': 'High', 'Hish': 'High', 'Iigh': 'High', 'Hmgh': 'High', 'Hiqh': 'High',\n",
    "    'Higz': 'High', 'Gigh': 'High', 'Higl': 'High', 'High ': 'High',  ' High': 'High',\n",
    "    # 'Low' doesn't have a spelling mistake, but it had space so just in case \n",
    "     ' Low': 'Low', 'Low ': 'Low',\n",
    "    # list for 'Medium'\n",
    "    'Meiium': 'Medium', 'Mediuu': 'Medium', ' Medium' : 'Medium', 'Medium ' : 'Medium'\n",
    "}\n",
    "df['RISK_RATING_NAME'] = df['RISK_RATING_NAME'].replace(risk_rating_fix)\n",
    "\n",
    "# Fix spell in SEGMENT_NAME\n",
    "segment_name_fix = {\n",
    "    #list for mistaken spell\n",
    "    'Employe': 'Employee', 'Empliyee': 'Employee',\n",
    "    'Enterpreneur': 'Entrepreneur', 'Public Igstitution': 'Public Institution',\n",
    "    'Personal_Customr': 'Personal Customer', 'Persxnal Customer':'Personal Customer','Perscnal Customer':'Personal Customer','Personil Customer':'Personal Customer','Perdonal Customer':'Personal Customer'\n",
    "}\n",
    "df['SEGMENT_NAME'] = df['SEGMENT_NAME'].replace(segment_name_fix)\n",
    "\n",
    "# Fix space in SEGMENT_CODE\n",
    "segment_code_fix = {\n",
    "    # list for fixing space\n",
    "    ' PER': 'PER', 'PER ': 'PER', \n",
    "    ' ENTR': 'ENTR', ' ENTR': 'ENTR',\n",
    "    'EMP ': 'EMP', ' EMP': 'EMP',\n",
    "    'SME ': 'SME', \n",
    "    ' LCORP':'LCORP', 'LCORP ': 'LCORP',\n",
    "    'GOVT ': 'GOVT',\n",
    "    'FIN ': 'FIN'\n",
    "}\n",
    "df['SEGMENT_CODE'] = df['SEGMENT_CODE'].replace(segment_code_fix)\n",
    "\n",
    "# Check the corrected data\n",
    "print(\"\\nModified data:\")\n",
    "print(df[['RISK_RATING_NAME', 'SEGMENT_NAME', 'SEGMENT_CODE']].head())\n"
   ]
  },
  {
   "cell_type": "code",
   "execution_count": 60,
   "id": "6214fc66-88fc-421b-b2c8-159518df5bad",
   "metadata": {},
   "outputs": [
    {
     "name": "stdout",
     "output_type": "stream",
     "text": [
      "\n",
      "Unique values in RISK_RATING_NAME after modified:\n",
      "['High' 'Low' 'Medium']\n",
      "\n",
      "Unique values in SEGMENT_NAME after modified:\n",
      "['Employee' 'Entrepreneur' 'Personal Customer' 'Public Institution'\n",
      " 'Large Corporate' 'Private Banking' 'Small and medium-sized enterprise'\n",
      " 'Government institution' 'Financial institution']\n",
      "\n",
      "Unique values in SEGMENT_CODE after modified:\n",
      "['EMP' 'ENTR' 'PER' 'PUB' 'LCORP' 'PBANK' 'SME' 'GOVT' 'FIN' 'ENTR ']\n"
     ]
    }
   ],
   "source": [
    "# Check unique values after modified\n",
    "print(\"\\nUnique values in RISK_RATING_NAME after modified:\")\n",
    "print(df['RISK_RATING_NAME'].unique())\n",
    "\n",
    "print(\"\\nUnique values in SEGMENT_NAME after modified:\")\n",
    "print(df['SEGMENT_NAME'].unique())\n",
    "\n",
    "print(\"\\nUnique values in SEGMENT_CODE after modified:\")\n",
    "print(df['SEGMENT_CODE'].unique())"
   ]
  },
  {
   "cell_type": "code",
   "execution_count": 12,
   "id": "6129f876-d399-4fad-8290-5fc10ac1b8b7",
   "metadata": {},
   "outputs": [
    {
     "name": "stdout",
     "output_type": "stream",
     "text": [
      "\n",
      "Number of missing values in each column:\n",
      " CUSTOMER_ID           0\n",
      "SEGMENT_CODE         27\n",
      "SEGMENT_NAME         42\n",
      "RISK_RATING          59\n",
      "RISK_RATING_NAME     49\n",
      "REGISTER_DATE       211\n",
      "dtype: int64\n"
     ]
    }
   ],
   "source": [
    "# Check the number of missing values\n",
    "print(\"\\nNumber of missing values in each column:\\n\", df.isnull().sum())"
   ]
  },
  {
   "cell_type": "code",
   "execution_count": 14,
   "id": "c6613a4b-93d0-458c-bbbb-83109e2a0618",
   "metadata": {},
   "outputs": [
    {
     "name": "stdout",
     "output_type": "stream",
     "text": [
      "\n",
      "Missing values:\n",
      " CUSTOMER_ID           0\n",
      "SEGMENT_CODE          0\n",
      "SEGMENT_NAME          0\n",
      "RISK_RATING           0\n",
      "RISK_RATING_NAME      0\n",
      "REGISTER_DATE       211\n",
      "dtype: int64\n"
     ]
    }
   ],
   "source": [
    "# Fill missing values with the mode for specified columns\n",
    "fill_columns = ['RISK_RATING_NAME', 'SEGMENT_NAME', 'SEGMENT_CODE', 'RISK_RATING']\n",
    "\n",
    "for column in fill_columns:\n",
    "    mode_value = df[column].mode()[0]\n",
    "    df[column].fillna(mode_value, inplace=True)\n",
    "\n",
    "# Verify if missing values are filled\n",
    "print(\"\\nMissing values:\\n\", df.isnull().sum())"
   ]
  },
  {
   "cell_type": "code",
   "execution_count": 16,
   "id": "8918cf5b-aae3-4216-8636-19c9003c52ae",
   "metadata": {},
   "outputs": [
    {
     "name": "stdout",
     "output_type": "stream",
     "text": [
      "\n",
      "Data after Task a:\n",
      "   CUSTOMER_ID SEGMENT_CODE       SEGMENT_NAME  RISK_RATING RISK_RATING_NAME  \\\n",
      "0         4632          EMP           Employee          3.0             High   \n",
      "1         9176         ENTR       Entrepreneur          1.0              Low   \n",
      "2         9636          PER  Personal Customer          3.0             High   \n",
      "3         2668         ENTR       Entrepreneur          3.0             High   \n",
      "4         4714          PER  Personal Customer          3.0             High   \n",
      "\n",
      "  REGISTER_DATE  \n",
      "0    2016-10-15  \n",
      "1    2017-08-05  \n",
      "2    2013-01-06  \n",
      "3    2015-12-27  \n",
      "4           NaN  \n"
     ]
    }
   ],
   "source": [
    "# Checking progress after task a \n",
    "print(\"\\nData after Task a:\")\n",
    "print(df.head())"
   ]
  },
  {
   "cell_type": "code",
   "execution_count": 18,
   "id": "efbf5ca8-5188-47d5-bcc6-15150911ec28",
   "metadata": {},
   "outputs": [
    {
     "name": "stdout",
     "output_type": "stream",
     "text": [
      "\n",
      "Columns in REGISTER_DATE :\n",
      "0    2016-10-15\n",
      "1    2017-08-05\n",
      "2    2013-01-06\n",
      "3    2015-12-27\n",
      "4           NaN\n",
      "Name: REGISTER_DATE, dtype: object\n"
     ]
    }
   ],
   "source": [
    "# Task b  REGISTER_DATE check\n",
    "print(\"\\nColumns in REGISTER_DATE :\")\n",
    "print(df['REGISTER_DATE'].head())"
   ]
  },
  {
   "cell_type": "code",
   "execution_count": 20,
   "id": "6ad86453-1fd2-4f67-8bcf-7f4599c31ce3",
   "metadata": {},
   "outputs": [
    {
     "name": "stdout",
     "output_type": "stream",
     "text": [
      "\n",
      "REGISTER_DATE after fixing:\n",
      "0   2016-10-15\n",
      "1   2017-08-05\n",
      "2   2013-01-06\n",
      "3   2015-12-27\n",
      "4          NaT\n",
      "Name: REGISTER_DATE, dtype: datetime64[ns]\n"
     ]
    }
   ],
   "source": [
    "# Change to yyyy-mm-dd \n",
    "df['REGISTER_DATE'] = pd.to_datetime(df['REGISTER_DATE'], format='%Y-%m-%d', errors='coerce')\n",
    "\n",
    "# Czech format to normal format \n",
    "def czech_calendar(date):\n",
    "    if pd.notnull(date) and isinstance(date, str):  # Check if date is not null and string\n",
    "        try:\n",
    "            return pd.to_datetime(date, format='%d.%m.%Y').strftime('%Y-%m-%d')\n",
    "        except ValueError:\n",
    "            return None  \n",
    "    return date \n",
    "\n",
    "# Adopt change to the REGISTER_DATE column\n",
    "df['REGISTER_DATE'] = df['REGISTER_DATE'].apply(czech_calendar)\n",
    "\n",
    "# Check the result\n",
    "print(\"\\nREGISTER_DATE after fixing:\")\n",
    "print(df['REGISTER_DATE'].head())"
   ]
  },
  {
   "cell_type": "code",
   "execution_count": 22,
   "id": "5f351bcc-29ce-4869-bfa8-d3b06fd79d9b",
   "metadata": {},
   "outputs": [
    {
     "name": "stdout",
     "output_type": "stream",
     "text": [
      "\n",
      "Data type of REGISTER_DATE:\n",
      "datetime64[ns]\n",
      "\n",
      "After adopted to normal calender:\n",
      "0   2016-10-15\n",
      "1   2017-08-05\n",
      "2   2013-01-06\n",
      "3   2015-12-27\n",
      "4          NaT\n",
      "Name: REGISTER_DATE, dtype: datetime64[ns]\n"
     ]
    }
   ],
   "source": [
    "# Check data type\n",
    "print(\"\\nData type of REGISTER_DATE:\")\n",
    "print(df['REGISTER_DATE'].dtype)\n",
    "\n",
    "# Show the result\n",
    "print(\"\\nAfter adopted to normal calender:\")\n",
    "print(df['REGISTER_DATE'].head())"
   ]
  },
  {
   "cell_type": "code",
   "execution_count": 28,
   "id": "f939f6aa-fe8b-49df-8dc3-b4e358fcfb9d",
   "metadata": {},
   "outputs": [
    {
     "name": "stdout",
     "output_type": "stream",
     "text": [
      "\n",
      "Missing values\n",
      "5171\n"
     ]
    }
   ],
   "source": [
    "# Task C missing values in columns.\n",
    "print(\"\\nMissing values\")\n",
    "print(df['REGISTER_DATE'].isnull().sum())"
   ]
  },
  {
   "cell_type": "code",
   "execution_count": 31,
   "id": "df08c2ab-b95a-41cb-bbe5-19ea1d3d1f13",
   "metadata": {},
   "outputs": [
    {
     "name": "stdout",
     "output_type": "stream",
     "text": [
      "\n",
      "Median of REGISTER_DATE: 2015-12-26 00:00:00\n"
     ]
    }
   ],
   "source": [
    "# Find the median of the columns \n",
    "median = df['REGISTER_DATE'].median()\n",
    "print(f\"\\nMedian of REGISTER_DATE: {median}\")"
   ]
  },
  {
   "cell_type": "code",
   "execution_count": 34,
   "id": "ef36d0d2-fc4f-42e5-bbc2-95df861cf431",
   "metadata": {},
   "outputs": [
    {
     "name": "stdout",
     "output_type": "stream",
     "text": [
      "\n",
      "Missing Values in the columns:\n",
      "0\n"
     ]
    }
   ],
   "source": [
    "# tried to replace with median values\n",
    "df['REGISTER_DATE'] = df['REGISTER_DATE'].fillna(median)\n",
    "\n",
    "# check whether it is filled out or not\n",
    "print(\"\\nMissing Values in the columns:\")\n",
    "print(df['REGISTER_DATE'].isnull().sum())"
   ]
  },
  {
   "cell_type": "code",
   "execution_count": 38,
   "id": "a351eac8-fdaa-4a0f-b446-1471565539ad",
   "metadata": {},
   "outputs": [
    {
     "name": "stdout",
     "output_type": "stream",
     "text": [
      "\n",
      "After modified to fill the value:\n",
      "0   2016-10-15\n",
      "1   2017-08-05\n",
      "2   2013-01-06\n",
      "3   2015-12-27\n",
      "4   2015-12-26\n",
      "Name: REGISTER_DATE, dtype: datetime64[ns]\n"
     ]
    }
   ],
   "source": [
    "# Check task c progress\n",
    "print(\"\\nAfter modified to fill the value:\")\n",
    "print(df['REGISTER_DATE'].head())"
   ]
  },
  {
   "cell_type": "code",
   "execution_count": 63,
   "id": "43e5ba08-7727-426d-8af4-12acae16d36d",
   "metadata": {},
   "outputs": [],
   "source": [
    "# Task d Allowed values\n",
    "allowed_values_risk = ['Low', 'Medium', 'High']  # Allowed values in RISK_RATING_NAME\n",
    "allowed_values_segments = ['Employee', 'Entrepreneur', 'Personal Customer','Public Institution','Large Corporate',\n",
    "    'Private Banking','Small and medium-sized enterprise','Government institution', 'Financial institution',]  # Allowed values in SEGMENT_NAME "
   ]
  },
  {
   "cell_type": "code",
   "execution_count": 66,
   "id": "b0122021-9444-449d-8117-e6594d59f5b8",
   "metadata": {},
   "outputs": [
    {
     "name": "stdout",
     "output_type": "stream",
     "text": [
      "\n",
      "Nonsense values in RISK_RATING_NAME:\n",
      "[]\n",
      "\n",
      "Nonsense values in SEGMENT_NAME:\n",
      "[]\n"
     ]
    }
   ],
   "source": [
    "# check the nonsense values  \n",
    "nonsence_risk_names = df[~df['RISK_RATING_NAME'].isin(allowed_values_risk)]\n",
    "print(\"\\nNonsense values in RISK_RATING_NAME:\")\n",
    "print(nonsence_risk_names['RISK_RATING_NAME'].unique())\n",
    "\n",
    "nonsence_segments = df[~df['SEGMENT_NAME'].isin(allowed_values_segments)]\n",
    "print(\"\\nNonsense values in SEGMENT_NAME:\")\n",
    "print(nonsence_segments['SEGMENT_NAME'].unique())"
   ]
  },
  {
   "cell_type": "code",
   "execution_count": 70,
   "id": "ee53279f-dcd3-4118-a344-b6ddbda2bb27",
   "metadata": {},
   "outputs": [
    {
     "name": "stdout",
     "output_type": "stream",
     "text": [
      "\n",
      "The number of columns after removed nonsense values:\n",
      "10000\n"
     ]
    }
   ],
   "source": [
    "# remove the values which are not allowed in the columns\n",
    "df = df[df['RISK_RATING_NAME'].isin(allowed_values_risk)]\n",
    "\n",
    "df = df[df['SEGMENT_NAME'].isin(allowed_values_segments)]\n",
    "\n",
    "# chech values after removing\n",
    "print(\"\\nThe number of columns after removed nonsense values:\")\n",
    "print(len(df))"
   ]
  },
  {
   "cell_type": "code",
   "execution_count": 81,
   "id": "67e05970-a853-41d1-b283-04af13fde8e6",
   "metadata": {},
   "outputs": [
    {
     "name": "stdout",
     "output_type": "stream",
     "text": [
      "\n",
      "Data type:\n",
      "CUSTOMER_ID                  int64\n",
      "SEGMENT_CODE                object\n",
      "SEGMENT_NAME                object\n",
      "RISK_RATING                float64\n",
      "RISK_RATING_NAME            object\n",
      "REGISTER_DATE       datetime64[ns]\n",
      "dtype: object\n"
     ]
    }
   ],
   "source": [
    "# Check the data type\n",
    "print(\"\\nData type:\")\n",
    "print(df.dtypes)"
   ]
  },
  {
   "cell_type": "code",
   "execution_count": 83,
   "id": "88285f86-9845-44f5-bc30-37d22c5a8028",
   "metadata": {},
   "outputs": [
    {
     "name": "stdout",
     "output_type": "stream",
     "text": [
      "\n",
      "Unique values in RISK_RATING_NAME:\n",
      "['High' 'Low' 'Medium']\n",
      "\n",
      "Unique values in SEGMENT_NAME:\n",
      "['Employee' 'Entrepreneur' 'Personal Customer' 'Public Institution'\n",
      " 'Large Corporate' 'Private Banking' 'Small and medium-sized enterprise'\n",
      " 'Government institution' 'Financial institution']\n"
     ]
    }
   ],
   "source": [
    "# Show unique values in the columns\n",
    "for column in ['RISK_RATING_NAME', 'SEGMENT_NAME']:\n",
    "    print(f\"\\nUnique values in {column}:\")\n",
    "    print(df[column].unique())"
   ]
  },
  {
   "cell_type": "code",
   "execution_count": 86,
   "id": "087f495b-b5b4-4703-9f51-37290ab7a61e",
   "metadata": {},
   "outputs": [
    {
     "name": "stdout",
     "output_type": "stream",
     "text": [
      "File saved successfully in the current directory!\n"
     ]
    }
   ],
   "source": [
    "# Save the file in the current working directory\n",
    "df.to_csv('modified_customer_data.csv', index=False)\n",
    "print(\"File saved successfully in the current directory!\")"
   ]
  },
  {
   "cell_type": "code",
   "execution_count": null,
   "id": "9b3c0959-61cc-4796-9b43-80eef22430b7",
   "metadata": {},
   "outputs": [],
   "source": []
  }
 ],
 "metadata": {
  "kernelspec": {
   "display_name": "anaconda-ai-2024.04-py310",
   "language": "python",
   "name": "conda-env-anaconda-ai-2024.04-py310-py"
  },
  "language_info": {
   "codemirror_mode": {
    "name": "ipython",
    "version": 3
   },
   "file_extension": ".py",
   "mimetype": "text/x-python",
   "name": "python",
   "nbconvert_exporter": "python",
   "pygments_lexer": "ipython3",
   "version": "3.10.13"
  }
 },
 "nbformat": 4,
 "nbformat_minor": 5
}
